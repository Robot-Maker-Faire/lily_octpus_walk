{
 "cells": [
  {
   "cell_type": "code",
   "execution_count": 1,
   "metadata": {},
   "outputs": [],
   "source": [
    "from sympy import sin, cos, Matrix, Symbol, solve, simplify, pi\n",
    "import math"
   ]
  },
  {
   "cell_type": "markdown",
   "metadata": {},
   "source": [
    "# 脚毎の「脚根本ー胴体重心変換行列」を定義\n",
    "#### BLF ######\n",
    "#pi=3.14159\n",
    "Phi = 0\n",
    "Theta = pi/2.0-0.955316618\n",
    "Psi = pi/4.0\n",
    "body = 0.3\n",
    "\n",
    "R = Matrix([\n",
    "    [cos(Theta)*cos(Psi), sin(Phi)*sin(Theta)*cos(Psi)-cos(Phi)*sin(Psi), cos(Phi)*sin(Theta)*cos(Psi)+sin(Phi)*sin(Psi)],\n",
    "    [cos(Theta)*sin(Psi), sin(Phi)*sin(Theta)*sin(Psi)+cos(Phi)*cos(Psi), cos(Phi)*sin(Theta)*sin(Psi)-sin(Phi)*cos(Psi)],\n",
    "    [-sin(Theta), sin(Phi)*cos(Theta), cos(Phi)*cos(Theta)]\n",
    "])\n",
    "# 胴体中心から脚根本までの座標\n",
    "col = Matrix([[body/2.0],\n",
    "            [body/2.0],\n",
    "            [-body/2.0]])\n",
    "\n",
    "row = Matrix([[0, 0, 0, 1]])\n",
    "T_tmp = R.col_insert(4, col)\n",
    "convert_to_center = T_tmp.row_insert(4, row)\n",
    "print(convert_to_center)"
   ]
  },
  {
   "cell_type": "markdown",
   "metadata": {},
   "source": [
    "# 脚毎の「脚根本ー胴体重心変換行列」を定義\n",
    "#### BLH ######\n",
    "#pi=3.14159\n",
    "Phi = 0\n",
    "Theta = pi/2.0-0.955316618\n",
    "Psi = 3*pi/4.0\n",
    "body = 0.3\n",
    "\n",
    "R = Matrix([\n",
    "    [cos(Theta)*cos(Psi), sin(Phi)*sin(Theta)*cos(Psi)-cos(Phi)*sin(Psi), cos(Phi)*sin(Theta)*cos(Psi)+sin(Phi)*sin(Psi)],\n",
    "    [cos(Theta)*sin(Psi), sin(Phi)*sin(Theta)*sin(Psi)+cos(Phi)*cos(Psi), cos(Phi)*sin(Theta)*sin(Psi)-sin(Phi)*cos(Psi)],\n",
    "    [-sin(Theta), sin(Phi)*cos(Theta), cos(Phi)*cos(Theta)]\n",
    "])\n",
    "# 胴体中心から脚根本までの座標\n",
    "col = Matrix([[-body/2.0],\n",
    "            [body/2.0],\n",
    "            [-body/2.0]])\n",
    "\n",
    "row = Matrix([[0, 0, 0, 1]])\n",
    "T_tmp = R.col_insert(4, col)\n",
    "convert_to_center = T_tmp.row_insert(4, row)\n",
    "print(convert_to_center)"
   ]
  },
  {
   "cell_type": "markdown",
   "metadata": {},
   "source": [
    "# 脚毎の「脚根本ー胴体重心変換行列」を定義\n",
    "#### BRF ######\n",
    "#pi=3.14159\n",
    "Phi = 0\n",
    "Theta = pi/2.0-0.955316618\n",
    "Psi = -pi/4.0\n",
    "body = 0.3\n",
    "\n",
    "R = Matrix([\n",
    "    [cos(Theta)*cos(Psi), sin(Phi)*sin(Theta)*cos(Psi)-cos(Phi)*sin(Psi), cos(Phi)*sin(Theta)*cos(Psi)+sin(Phi)*sin(Psi)],\n",
    "    [cos(Theta)*sin(Psi), sin(Phi)*sin(Theta)*sin(Psi)+cos(Phi)*cos(Psi), cos(Phi)*sin(Theta)*sin(Psi)-sin(Phi)*cos(Psi)],\n",
    "    [-sin(Theta), sin(Phi)*cos(Theta), cos(Phi)*cos(Theta)]\n",
    "])\n",
    "# 胴体中心から脚根本までの座標\n",
    "col = Matrix([[body/2.0],\n",
    "            [-body/2.0],\n",
    "            [-body/2.0]])\n",
    "\n",
    "row = Matrix([[0, 0, 0, 1]])\n",
    "T_tmp = R.col_insert(4, col)\n",
    "convert_to_center = T_tmp.row_insert(4, row)\n",
    "print(convert_to_center)"
   ]
  },
  {
   "cell_type": "markdown",
   "metadata": {},
   "source": [
    "# 脚毎の「脚根本ー胴体重心変換行列」を定義\n",
    "#### BRH ######\n",
    "#pi=3.14159\n",
    "Phi = 0\n",
    "Theta = pi/2.0-0.955316618\n",
    "Psi = -3*pi/4.0\n",
    "body = 0.3\n",
    "\n",
    "R = Matrix([\n",
    "    [cos(Theta)*cos(Psi), sin(Phi)*sin(Theta)*cos(Psi)-cos(Phi)*sin(Psi), cos(Phi)*sin(Theta)*cos(Psi)+sin(Phi)*sin(Psi)],\n",
    "    [cos(Theta)*sin(Psi), sin(Phi)*sin(Theta)*sin(Psi)+cos(Phi)*cos(Psi), cos(Phi)*sin(Theta)*sin(Psi)-sin(Phi)*cos(Psi)],\n",
    "    [-sin(Theta), sin(Phi)*cos(Theta), cos(Phi)*cos(Theta)]\n",
    "])\n",
    "# 胴体中心から脚根本までの座標\n",
    "col = Matrix([[-body/2.0],\n",
    "            [-body/2.0],\n",
    "            [-body/2.0]])\n",
    "\n",
    "row = Matrix([[0, 0, 0, 1]])\n",
    "T_tmp = R.col_insert(4, col)\n",
    "convert_to_center = T_tmp.row_insert(4, row)\n",
    "print(convert_to_center)"
   ]
  },
  {
   "cell_type": "markdown",
   "metadata": {},
   "source": [
    "# 脚毎の「脚根本ー胴体重心変換行列」を定義\n",
    "#### TLF ######\n",
    "#pi=3.14159\n",
    "Phi = 0\n",
    "Theta = -pi/2.0+0.955316618\n",
    "Psi = pi/4.0\n",
    "body = 0.3\n",
    "\n",
    "R = Matrix([\n",
    "    [cos(Theta)*cos(Psi), sin(Phi)*sin(Theta)*cos(Psi)-cos(Phi)*sin(Psi), cos(Phi)*sin(Theta)*cos(Psi)+sin(Phi)*sin(Psi)],\n",
    "    [cos(Theta)*sin(Psi), sin(Phi)*sin(Theta)*sin(Psi)+cos(Phi)*cos(Psi), cos(Phi)*sin(Theta)*sin(Psi)-sin(Phi)*cos(Psi)],\n",
    "    [-sin(Theta), sin(Phi)*cos(Theta), cos(Phi)*cos(Theta)]\n",
    "])\n",
    "# 胴体中心から脚根本までの座標\n",
    "col = Matrix([[body/2.0],\n",
    "            [body/2.0],\n",
    "            [body/2.0]])\n",
    "\n",
    "row = Matrix([[0, 0, 0, 1]])\n",
    "T_tmp = R.col_insert(4, col)\n",
    "convert_to_center = T_tmp.row_insert(4, row)\n",
    "print(convert_to_center)"
   ]
  },
  {
   "cell_type": "markdown",
   "metadata": {},
   "source": [
    "# 脚毎の「脚根本ー胴体重心変換行列」を定義\n",
    "#### TLH ######\n",
    "#pi=3.14159\n",
    "Phi = 0\n",
    "Theta = -pi/2.0+0.955316618\n",
    "Psi = 3*pi/4.0\n",
    "body = 0.3\n",
    "\n",
    "R = Matrix([\n",
    "    [cos(Theta)*cos(Psi), sin(Phi)*sin(Theta)*cos(Psi)-cos(Phi)*sin(Psi), cos(Phi)*sin(Theta)*cos(Psi)+sin(Phi)*sin(Psi)],\n",
    "    [cos(Theta)*sin(Psi), sin(Phi)*sin(Theta)*sin(Psi)+cos(Phi)*cos(Psi), cos(Phi)*sin(Theta)*sin(Psi)-sin(Phi)*cos(Psi)],\n",
    "    [-sin(Theta), sin(Phi)*cos(Theta), cos(Phi)*cos(Theta)]\n",
    "])\n",
    "# 胴体中心から脚根本までの座標\n",
    "col = Matrix([[-body/2.0],\n",
    "            [body/2.0],\n",
    "            [body/2.0]])\n",
    "\n",
    "row = Matrix([[0, 0, 0, 1]])\n",
    "T_tmp = R.col_insert(4, col)\n",
    "convert_to_center = T_tmp.row_insert(4, row)\n",
    "print(convert_to_center)"
   ]
  },
  {
   "cell_type": "markdown",
   "metadata": {},
   "source": [
    "# 脚毎の「脚根本ー胴体重心変換行列」を定義\n",
    "#### TLH ######\n",
    "#pi=3.14159\n",
    "Phi = 0\n",
    "Theta = -pi/2.0+0.955316618\n",
    "Psi = -pi/4.0\n",
    "body = 0.3\n",
    "\n",
    "R = Matrix([\n",
    "    [cos(Theta)*cos(Psi), sin(Phi)*sin(Theta)*cos(Psi)-cos(Phi)*sin(Psi), cos(Phi)*sin(Theta)*cos(Psi)+sin(Phi)*sin(Psi)],\n",
    "    [cos(Theta)*sin(Psi), sin(Phi)*sin(Theta)*sin(Psi)+cos(Phi)*cos(Psi), cos(Phi)*sin(Theta)*sin(Psi)-sin(Phi)*cos(Psi)],\n",
    "    [-sin(Theta), sin(Phi)*cos(Theta), cos(Phi)*cos(Theta)]\n",
    "])\n",
    "# 胴体中心から脚根本までの座標\n",
    "col = Matrix([[body/2.0],\n",
    "            [-body/2.0],\n",
    "            [body/2.0]])\n",
    "\n",
    "row = Matrix([[0, 0, 0, 1]])\n",
    "T_tmp = R.col_insert(4, col)\n",
    "convert_to_center = T_tmp.row_insert(4, row)\n",
    "print(convert_to_center)"
   ]
  },
  {
   "cell_type": "code",
   "execution_count": 2,
   "metadata": {},
   "outputs": [
    {
     "name": "stdout",
     "output_type": "stream",
     "text": [
      "Matrix([[cos(0.75*pi)*cos(-0.5*pi + 0.955316618), sin(0.75*pi), sin(-0.5*pi + 0.955316618)*cos(0.75*pi), -0.150000000000000], [-sin(0.75*pi)*cos(-0.5*pi + 0.955316618), cos(0.75*pi), -sin(0.75*pi)*sin(-0.5*pi + 0.955316618), -0.150000000000000], [-sin(-0.5*pi + 0.955316618), 0, cos(-0.5*pi + 0.955316618), 0.150000000000000], [0, 0, 0, 1]])\n"
     ]
    }
   ],
   "source": [
    "# 脚毎の「脚根本ー胴体重心変換行列」を定義\n",
    "#### TLH ######\n",
    "#pi=3.14159\n",
    "Phi = 0\n",
    "Theta = -pi/2.0+0.955316618\n",
    "Psi = -3*pi/4.0\n",
    "body = 0.3\n",
    "\n",
    "R = Matrix([\n",
    "    [cos(Theta)*cos(Psi), sin(Phi)*sin(Theta)*cos(Psi)-cos(Phi)*sin(Psi), cos(Phi)*sin(Theta)*cos(Psi)+sin(Phi)*sin(Psi)],\n",
    "    [cos(Theta)*sin(Psi), sin(Phi)*sin(Theta)*sin(Psi)+cos(Phi)*cos(Psi), cos(Phi)*sin(Theta)*sin(Psi)-sin(Phi)*cos(Psi)],\n",
    "    [-sin(Theta), sin(Phi)*cos(Theta), cos(Phi)*cos(Theta)]\n",
    "])\n",
    "# 胴体中心から脚根本までの座標\n",
    "col = Matrix([[-body/2.0],\n",
    "            [-body/2.0],\n",
    "            [body/2.0]])\n",
    "\n",
    "row = Matrix([[0, 0, 0, 1]])\n",
    "T_tmp = R.col_insert(4, col)\n",
    "convert_to_center = T_tmp.row_insert(4, row)\n",
    "print(convert_to_center)"
   ]
  },
  {
   "cell_type": "code",
   "execution_count": 3,
   "metadata": {},
   "outputs": [],
   "source": [
    "# 回転軸の方向ベクトル\n",
    "# 元座標からみた相対座標系における回転軸方向のベクトルを表す\n",
    "class Omega:\n",
    "    def __init__(self, Lam=0, Mu=0, Nu=0, Phi=0, Theta=0, Psi=0):\n",
    "        self.Lam, self.Mu, self.Nu, self.Phi, self.Theta, self.Psi = Lam, Mu, Nu, Phi, Theta, Psi\n",
    "    def subsVal(self, Lam, Mu, Nu):\n",
    "        self.Lam, self.Mu, self.Nu = Lam, Mu, Nu\n",
    "    def subsEuler(self, Phi, Theta, Psi):\n",
    "        self.Phi, self.Theta, self.Psi = Phi, Theta, Psi\n",
    "\n",
    "# オイラー回転を行った際の, ｚ軸方向ベクトルの回転後ベクトルを計算\n",
    "def convertEulerToOmega(Phi, Theta, Psi):\n",
    "        Lam = cos(Phi)*sin(Theta)*cos(Psi)+sin(Phi)*sin(Psi)\n",
    "        Mu = cos(Phi)*sin(Theta)*sin(Psi)-sin(Phi)*cos(Psi)\n",
    "        Nu = cos(Phi)*cos(Theta)\n",
    "        print(Lam, Mu, Nu)\n",
    "        return Lam, Mu, Nu\n",
    "\n",
    "# 同時変換行列の導出\n",
    "def getSimultaneousTransformationXMatrix(omega, theta, L):\n",
    "    X_roll = Matrix([[1, 0, 0],\n",
    "                [0, cos(theta), -sin(theta)],\n",
    "                [0, sin(theta), cos(theta)]])\n",
    "    RzRyRz = Matrix([\n",
    "                [cos(omega.Theta)*cos(omega.Psi), sin(omega.Phi)*sin(omega.Theta)*cos(omega.Psi)-cos(omega.Phi)*sin(omega.Psi), cos(omega.Phi)*sin(omega.Theta)*cos(omega.Psi)+sin(omega.Phi)*sin(omega.Psi)],\n",
    "                [cos(omega.Theta)*sin(omega.Psi), sin(omega.Phi)*sin(omega.Theta)*sin(omega.Psi)+cos(omega.Phi)*cos(omega.Psi), cos(omega.Phi)*sin(omega.Theta)*sin(omega.Psi)-sin(omega.Phi)*cos(omega.Psi)],\n",
    "                [-sin(omega.Theta), sin(omega.Phi)*cos(omega.Theta), cos(omega.Phi)*cos(omega.Theta)]])\n",
    "    R = RzRyRz * X_roll\n",
    "    col = Matrix([[L],\n",
    "                [0],\n",
    "                [0]])\n",
    "    row = Matrix([[0, 0, 0, 1]])\n",
    "    T_tmp = R.col_insert(4, col)\n",
    "    T = T_tmp.row_insert(4, row)\n",
    "    return T\n",
    "\n",
    "def getSimultaneousTransformationZMatrix(omega, theta, L):\n",
    "    Z_roll = Matrix([[cos(theta), -sin(theta), 0],\n",
    "                [sin(theta), cos(theta), 0],\n",
    "                [0, 0, 1]])\n",
    "    RzRyRz = Matrix([\n",
    "                [cos(omega.Theta)*cos(omega.Psi), sin(omega.Phi)*sin(omega.Theta)*cos(omega.Psi)-cos(omega.Phi)*sin(omega.Psi), cos(omega.Phi)*sin(omega.Theta)*cos(omega.Psi)+sin(omega.Phi)*sin(omega.Psi)],\n",
    "                [cos(omega.Theta)*sin(omega.Psi), sin(omega.Phi)*sin(omega.Theta)*sin(omega.Psi)+cos(omega.Phi)*cos(omega.Psi), cos(omega.Phi)*sin(omega.Theta)*sin(omega.Psi)-sin(omega.Phi)*cos(omega.Psi)],\n",
    "                [-sin(omega.Theta), sin(omega.Phi)*cos(omega.Theta), cos(omega.Phi)*cos(omega.Theta)]])\n",
    "    R = RzRyRz * Z_roll\n",
    "    col = Matrix([[L],\n",
    "                [0],\n",
    "                [0]])\n",
    "    row = Matrix([[0, 0, 0, 1]])\n",
    "    T_tmp = R.col_insert(4, col)\n",
    "    T = T_tmp.row_insert(4, row)\n",
    "    return T\n",
    "\n",
    "# 合成同時変換行列の導出\n",
    "def calcCompositeSimultaneousTransformationMatrix(omega, L, theta):\n",
    "    T_0 = getSimultaneousTransformationXMatrix(omega[0], theta = theta[0], L = L[0])\n",
    "    T_1 = getSimultaneousTransformationZMatrix(omega[1], theta = theta[1], L = L[1])\n",
    "    T_2 = getSimultaneousTransformationZMatrix(omega[2], theta = theta[2], L = L[2])\n",
    "    Theta = Matrix([theta[0], theta[1], theta[2]])\n",
    "    P_3 = Matrix([[L[3]],\n",
    "                [0],\n",
    "                [0],\n",
    "                [1]])\n",
    "    P =  convert_to_center*T_0 * T_1 * T_2 * P_3\n",
    "    #P =  T_0 * T_1 * T_2 * P_3\n",
    "    Jacob_T = P.jacobian(Theta)\n",
    "    # 4行目を消去\n",
    "    P.row_del(3)\n",
    "    Jacob_T.row_del(3)\n",
    "    return Jacob_T, P"
   ]
  },
  {
   "cell_type": "code",
   "execution_count": 4,
   "metadata": {},
   "outputs": [
    {
     "name": "stdout",
     "output_type": "stream",
     "text": [
      "0 0 1\n",
      "0 1 0\n",
      "0 0 1\n",
      "J\n",
      "Matrix([[-self.__L[2]*(-sin(theta[0])*sin(-0.5*pi + 0.955316618)*cos(0.75*pi) - sin(0.75*pi)*cos(theta[0]))*sin(theta[1]) + self.__L[3]*(-(-sin(theta[0])*sin(-0.5*pi + 0.955316618)*cos(0.75*pi) - sin(0.75*pi)*cos(theta[0]))*sin(theta[1])*cos(theta[2]) - (-sin(theta[0])*sin(-0.5*pi + 0.955316618)*cos(0.75*pi) - sin(0.75*pi)*cos(theta[0]))*sin(theta[2])*cos(theta[1])), self.__L[2]*((sin(0.75*pi)*sin(theta[0]) - sin(-0.5*pi + 0.955316618)*cos(0.75*pi)*cos(theta[0]))*cos(theta[1]) - sin(theta[1])*cos(0.75*pi)*cos(-0.5*pi + 0.955316618)) + self.__L[3]*((-(sin(0.75*pi)*sin(theta[0]) - sin(-0.5*pi + 0.955316618)*cos(0.75*pi)*cos(theta[0]))*sin(theta[1]) - cos(0.75*pi)*cos(theta[1])*cos(-0.5*pi + 0.955316618))*sin(theta[2]) + ((sin(0.75*pi)*sin(theta[0]) - sin(-0.5*pi + 0.955316618)*cos(0.75*pi)*cos(theta[0]))*cos(theta[1]) - sin(theta[1])*cos(0.75*pi)*cos(-0.5*pi + 0.955316618))*cos(theta[2])), self.__L[3]*(-(-(-sin(0.75*pi)*sin(theta[0]) + sin(-0.5*pi + 0.955316618)*cos(0.75*pi)*cos(theta[0]))*sin(theta[1]) + cos(0.75*pi)*cos(theta[1])*cos(-0.5*pi + 0.955316618))*sin(theta[2]) + (-(-sin(0.75*pi)*sin(theta[0]) + sin(-0.5*pi + 0.955316618)*cos(0.75*pi)*cos(theta[0]))*cos(theta[1]) - sin(theta[1])*cos(0.75*pi)*cos(-0.5*pi + 0.955316618))*cos(theta[2]))], [-self.__L[2]*(sin(0.75*pi)*sin(theta[0])*sin(-0.5*pi + 0.955316618) - cos(0.75*pi)*cos(theta[0]))*sin(theta[1]) + self.__L[3]*(-(sin(0.75*pi)*sin(theta[0])*sin(-0.5*pi + 0.955316618) - cos(0.75*pi)*cos(theta[0]))*sin(theta[1])*cos(theta[2]) - (sin(0.75*pi)*sin(theta[0])*sin(-0.5*pi + 0.955316618) - cos(0.75*pi)*cos(theta[0]))*sin(theta[2])*cos(theta[1])), self.__L[2]*((sin(theta[0])*cos(0.75*pi) + sin(0.75*pi)*sin(-0.5*pi + 0.955316618)*cos(theta[0]))*cos(theta[1]) + sin(0.75*pi)*sin(theta[1])*cos(-0.5*pi + 0.955316618)) + self.__L[3]*((-(sin(theta[0])*cos(0.75*pi) + sin(0.75*pi)*sin(-0.5*pi + 0.955316618)*cos(theta[0]))*sin(theta[1]) + sin(0.75*pi)*cos(theta[1])*cos(-0.5*pi + 0.955316618))*sin(theta[2]) + ((sin(theta[0])*cos(0.75*pi) + sin(0.75*pi)*sin(-0.5*pi + 0.955316618)*cos(theta[0]))*cos(theta[1]) + sin(0.75*pi)*sin(theta[1])*cos(-0.5*pi + 0.955316618))*cos(theta[2])), self.__L[3]*(-(-(-sin(theta[0])*cos(0.75*pi) - sin(0.75*pi)*sin(-0.5*pi + 0.955316618)*cos(theta[0]))*sin(theta[1]) - sin(0.75*pi)*cos(theta[1])*cos(-0.5*pi + 0.955316618))*sin(theta[2]) + (-(-sin(theta[0])*cos(0.75*pi) - sin(0.75*pi)*sin(-0.5*pi + 0.955316618)*cos(theta[0]))*cos(theta[1]) + sin(0.75*pi)*sin(theta[1])*cos(-0.5*pi + 0.955316618))*cos(theta[2]))], [self.__L[2]*sin(theta[0])*sin(theta[1])*cos(-0.5*pi + 0.955316618) + self.__L[3]*(sin(theta[0])*sin(theta[1])*cos(theta[2])*cos(-0.5*pi + 0.955316618) + sin(theta[0])*sin(theta[2])*cos(theta[1])*cos(-0.5*pi + 0.955316618)), self.__L[2]*(sin(theta[1])*sin(-0.5*pi + 0.955316618) - cos(theta[0])*cos(theta[1])*cos(-0.5*pi + 0.955316618)) + self.__L[3]*((sin(theta[1])*sin(-0.5*pi + 0.955316618) - cos(theta[0])*cos(theta[1])*cos(-0.5*pi + 0.955316618))*cos(theta[2]) + (sin(theta[1])*cos(theta[0])*cos(-0.5*pi + 0.955316618) + sin(-0.5*pi + 0.955316618)*cos(theta[1]))*sin(theta[2])), self.__L[3]*((sin(theta[1])*sin(-0.5*pi + 0.955316618) - cos(theta[0])*cos(theta[1])*cos(-0.5*pi + 0.955316618))*cos(theta[2]) - (-sin(theta[1])*cos(theta[0])*cos(-0.5*pi + 0.955316618) - sin(-0.5*pi + 0.955316618)*cos(theta[1]))*sin(theta[2]))]])\n",
      "P\n",
      "Matrix([[self.__L[1]*cos(0.75*pi)*cos(-0.5*pi + 0.955316618) + self.__L[2]*(-(-sin(0.75*pi)*sin(theta[0]) + sin(-0.5*pi + 0.955316618)*cos(0.75*pi)*cos(theta[0]))*sin(theta[1]) + cos(0.75*pi)*cos(theta[1])*cos(-0.5*pi + 0.955316618)) + self.__L[3]*((-(-sin(0.75*pi)*sin(theta[0]) + sin(-0.5*pi + 0.955316618)*cos(0.75*pi)*cos(theta[0]))*sin(theta[1]) + cos(0.75*pi)*cos(theta[1])*cos(-0.5*pi + 0.955316618))*cos(theta[2]) + (-(-sin(0.75*pi)*sin(theta[0]) + sin(-0.5*pi + 0.955316618)*cos(0.75*pi)*cos(theta[0]))*cos(theta[1]) - sin(theta[1])*cos(0.75*pi)*cos(-0.5*pi + 0.955316618))*sin(theta[2])) - 0.15], [-self.__L[1]*sin(0.75*pi)*cos(-0.5*pi + 0.955316618) + self.__L[2]*(-(-sin(theta[0])*cos(0.75*pi) - sin(0.75*pi)*sin(-0.5*pi + 0.955316618)*cos(theta[0]))*sin(theta[1]) - sin(0.75*pi)*cos(theta[1])*cos(-0.5*pi + 0.955316618)) + self.__L[3]*((-(-sin(theta[0])*cos(0.75*pi) - sin(0.75*pi)*sin(-0.5*pi + 0.955316618)*cos(theta[0]))*sin(theta[1]) - sin(0.75*pi)*cos(theta[1])*cos(-0.5*pi + 0.955316618))*cos(theta[2]) + (-(-sin(theta[0])*cos(0.75*pi) - sin(0.75*pi)*sin(-0.5*pi + 0.955316618)*cos(theta[0]))*cos(theta[1]) + sin(0.75*pi)*sin(theta[1])*cos(-0.5*pi + 0.955316618))*sin(theta[2])) - 0.15], [-self.__L[1]*sin(-0.5*pi + 0.955316618) + self.__L[2]*(-sin(theta[1])*cos(theta[0])*cos(-0.5*pi + 0.955316618) - sin(-0.5*pi + 0.955316618)*cos(theta[1])) + self.__L[3]*((sin(theta[1])*sin(-0.5*pi + 0.955316618) - cos(theta[0])*cos(theta[1])*cos(-0.5*pi + 0.955316618))*sin(theta[2]) + (-sin(theta[1])*cos(theta[0])*cos(-0.5*pi + 0.955316618) - sin(-0.5*pi + 0.955316618)*cos(theta[1]))*cos(theta[2])) + 0.15]])\n"
     ]
    }
   ],
   "source": [
    "theta = [Symbol('theta[0]', real=True), Symbol('theta[1]', real=True), Symbol('theta[2]', real=True)]\n",
    "euler_0 = [0, 0, 0]\n",
    "euler_1 = [-pi/2, 0, 0]\n",
    "euler_2 = [0, 0, 0]\n",
    "L = [0, Symbol('self.__L[1]', real=True), Symbol('self.__L[2]', real=True), Symbol('self.__L[3]', real=True)]\n",
    "#L = [0.0, 0.01, 0.3, 0.3]\n",
    "omega = [Omega(), Omega(), Omega()]\n",
    "omega[0].subsEuler(euler_0[0], euler_0[1], euler_0[2])\n",
    "omega[1].subsEuler(euler_1[0], euler_1[1], euler_1[2])\n",
    "omega[2].subsEuler(euler_2[0], euler_2[1], euler_2[2])\n",
    "\n",
    "for i in range(3):\n",
    "    convertEulerToOmega(omega[i].Phi, omega[i].Theta, omega[i].Psi)\n",
    "\n",
    "# ヤコビ行列, 胴体座標\n",
    "Jacob_T, P = calcCompositeSimultaneousTransformationMatrix(omega, L, theta)\n",
    "print(\"J\")\n",
    "print(Jacob_T)\n",
    "print(\"P\")\n",
    "print(P)"
   ]
  },
  {
   "cell_type": "code",
   "execution_count": 5,
   "metadata": {},
   "outputs": [
    {
     "name": "stdout",
     "output_type": "stream",
     "text": [
      "Matrix([[-0.02898], [0.3290], [-0.3290]])\n",
      "Matrix([[-0.0289785834330264], [0.328978583433026], [-0.328978583480299]])\n"
     ]
    },
    {
     "ename": "ValueError",
     "evalue": "Matrix det == 0; not invertible.",
     "output_type": "error",
     "traceback": [
      "\u001b[0;31m---------------------------------------------------------------------------\u001b[0m",
      "\u001b[0;31mValueError\u001b[0m                                Traceback (most recent call last)",
      "\u001b[0;32m<ipython-input-5-dfdd151d46de>\u001b[0m in \u001b[0;36m<module>\u001b[0;34m\u001b[0m\n\u001b[1;32m     15\u001b[0m     \u001b[0mJ\u001b[0m \u001b[0;34m=\u001b[0m \u001b[0mJacob_T\u001b[0m\u001b[0;34m.\u001b[0m\u001b[0msubs\u001b[0m\u001b[0;34m(\u001b[0m\u001b[0;34m[\u001b[0m\u001b[0;34m(\u001b[0m\u001b[0mtheta\u001b[0m\u001b[0;34m[\u001b[0m\u001b[0;36m0\u001b[0m\u001b[0;34m]\u001b[0m\u001b[0;34m,\u001b[0m \u001b[0mnow_theta\u001b[0m\u001b[0;34m[\u001b[0m\u001b[0;36m0\u001b[0m\u001b[0;34m]\u001b[0m\u001b[0;34m)\u001b[0m\u001b[0;34m,\u001b[0m \u001b[0;34m(\u001b[0m\u001b[0mtheta\u001b[0m\u001b[0;34m[\u001b[0m\u001b[0;36m1\u001b[0m\u001b[0;34m]\u001b[0m\u001b[0;34m,\u001b[0m \u001b[0mnow_theta\u001b[0m\u001b[0;34m[\u001b[0m\u001b[0;36m1\u001b[0m\u001b[0;34m]\u001b[0m\u001b[0;34m)\u001b[0m\u001b[0;34m,\u001b[0m \u001b[0;34m(\u001b[0m\u001b[0mtheta\u001b[0m\u001b[0;34m[\u001b[0m\u001b[0;36m2\u001b[0m\u001b[0;34m]\u001b[0m\u001b[0;34m,\u001b[0m \u001b[0mnow_theta\u001b[0m\u001b[0;34m[\u001b[0m\u001b[0;36m2\u001b[0m\u001b[0;34m]\u001b[0m\u001b[0;34m)\u001b[0m\u001b[0;34m]\u001b[0m\u001b[0;34m)\u001b[0m\u001b[0;34m\u001b[0m\u001b[0;34m\u001b[0m\u001b[0m\n\u001b[1;32m     16\u001b[0m     \u001b[0;31m#print(J)\u001b[0m\u001b[0;34m\u001b[0m\u001b[0;34m\u001b[0m\u001b[0;34m\u001b[0m\u001b[0m\n\u001b[0;32m---> 17\u001b[0;31m     \u001b[0minv_J\u001b[0m \u001b[0;34m=\u001b[0m \u001b[0mJ\u001b[0m\u001b[0;34m.\u001b[0m\u001b[0minv\u001b[0m\u001b[0;34m(\u001b[0m\u001b[0;34m)\u001b[0m\u001b[0;34m\u001b[0m\u001b[0;34m\u001b[0m\u001b[0m\n\u001b[0m\u001b[1;32m     18\u001b[0m     \u001b[0mdelta_pos\u001b[0m \u001b[0;34m=\u001b[0m \u001b[0mtarget_pos_vector\u001b[0m \u001b[0;34m-\u001b[0m \u001b[0mABS_pos\u001b[0m\u001b[0;34m\u001b[0m\u001b[0;34m\u001b[0m\u001b[0m\n\u001b[1;32m     19\u001b[0m     \u001b[0mdelta_theta\u001b[0m \u001b[0;34m=\u001b[0m \u001b[0minv_J\u001b[0m\u001b[0;34m*\u001b[0m\u001b[0mdelta_pos\u001b[0m\u001b[0;34m\u001b[0m\u001b[0;34m\u001b[0m\u001b[0m\n",
      "\u001b[0;32m~/anaconda3/lib/python3.7/site-packages/sympy/matrices/matrices.py\u001b[0m in \u001b[0;36minv\u001b[0;34m(self, method, **kwargs)\u001b[0m\n\u001b[1;32m   2916\u001b[0m         \u001b[0;32mif\u001b[0m \u001b[0mmethod\u001b[0m \u001b[0;32mis\u001b[0m \u001b[0;32mnot\u001b[0m \u001b[0;32mNone\u001b[0m\u001b[0;34m:\u001b[0m\u001b[0;34m\u001b[0m\u001b[0;34m\u001b[0m\u001b[0m\n\u001b[1;32m   2917\u001b[0m             \u001b[0mkwargs\u001b[0m\u001b[0;34m[\u001b[0m\u001b[0;34m'method'\u001b[0m\u001b[0;34m]\u001b[0m \u001b[0;34m=\u001b[0m \u001b[0mmethod\u001b[0m\u001b[0;34m\u001b[0m\u001b[0;34m\u001b[0m\u001b[0m\n\u001b[0;32m-> 2918\u001b[0;31m         \u001b[0;32mreturn\u001b[0m \u001b[0mself\u001b[0m\u001b[0;34m.\u001b[0m\u001b[0m_eval_inverse\u001b[0m\u001b[0;34m(\u001b[0m\u001b[0;34m**\u001b[0m\u001b[0mkwargs\u001b[0m\u001b[0;34m)\u001b[0m\u001b[0;34m\u001b[0m\u001b[0;34m\u001b[0m\u001b[0m\n\u001b[0m\u001b[1;32m   2919\u001b[0m \u001b[0;34m\u001b[0m\u001b[0m\n\u001b[1;32m   2920\u001b[0m     \u001b[0;32mdef\u001b[0m \u001b[0mis_nilpotent\u001b[0m\u001b[0;34m(\u001b[0m\u001b[0mself\u001b[0m\u001b[0;34m)\u001b[0m\u001b[0;34m:\u001b[0m\u001b[0;34m\u001b[0m\u001b[0;34m\u001b[0m\u001b[0m\n",
      "\u001b[0;32m~/anaconda3/lib/python3.7/site-packages/sympy/matrices/dense.py\u001b[0m in \u001b[0;36m_eval_inverse\u001b[0;34m(self, **kwargs)\u001b[0m\n\u001b[1;32m    264\u001b[0m         \u001b[0mM\u001b[0m \u001b[0;34m=\u001b[0m \u001b[0mself\u001b[0m\u001b[0;34m.\u001b[0m\u001b[0mas_mutable\u001b[0m\u001b[0;34m(\u001b[0m\u001b[0;34m)\u001b[0m\u001b[0;34m\u001b[0m\u001b[0;34m\u001b[0m\u001b[0m\n\u001b[1;32m    265\u001b[0m         \u001b[0;32mif\u001b[0m \u001b[0mmethod\u001b[0m \u001b[0;34m==\u001b[0m \u001b[0;34m\"GE\"\u001b[0m\u001b[0;34m:\u001b[0m\u001b[0;34m\u001b[0m\u001b[0;34m\u001b[0m\u001b[0m\n\u001b[0;32m--> 266\u001b[0;31m             \u001b[0mrv\u001b[0m \u001b[0;34m=\u001b[0m \u001b[0mM\u001b[0m\u001b[0;34m.\u001b[0m\u001b[0minverse_GE\u001b[0m\u001b[0;34m(\u001b[0m\u001b[0miszerofunc\u001b[0m\u001b[0;34m=\u001b[0m\u001b[0miszerofunc\u001b[0m\u001b[0;34m)\u001b[0m\u001b[0;34m\u001b[0m\u001b[0;34m\u001b[0m\u001b[0m\n\u001b[0m\u001b[1;32m    267\u001b[0m         \u001b[0;32melif\u001b[0m \u001b[0mmethod\u001b[0m \u001b[0;34m==\u001b[0m \u001b[0;34m\"LU\"\u001b[0m\u001b[0;34m:\u001b[0m\u001b[0;34m\u001b[0m\u001b[0;34m\u001b[0m\u001b[0m\n\u001b[1;32m    268\u001b[0m             \u001b[0mrv\u001b[0m \u001b[0;34m=\u001b[0m \u001b[0mM\u001b[0m\u001b[0;34m.\u001b[0m\u001b[0minverse_LU\u001b[0m\u001b[0;34m(\u001b[0m\u001b[0miszerofunc\u001b[0m\u001b[0;34m=\u001b[0m\u001b[0miszerofunc\u001b[0m\u001b[0;34m)\u001b[0m\u001b[0;34m\u001b[0m\u001b[0;34m\u001b[0m\u001b[0m\n",
      "\u001b[0;32m~/anaconda3/lib/python3.7/site-packages/sympy/matrices/matrices.py\u001b[0m in \u001b[0;36minverse_GE\u001b[0;34m(self, iszerofunc)\u001b[0m\n\u001b[1;32m   2831\u001b[0m         \u001b[0mred\u001b[0m \u001b[0;34m=\u001b[0m \u001b[0mbig\u001b[0m\u001b[0;34m.\u001b[0m\u001b[0mrref\u001b[0m\u001b[0;34m(\u001b[0m\u001b[0miszerofunc\u001b[0m\u001b[0;34m=\u001b[0m\u001b[0miszerofunc\u001b[0m\u001b[0;34m,\u001b[0m \u001b[0msimplify\u001b[0m\u001b[0;34m=\u001b[0m\u001b[0;32mTrue\u001b[0m\u001b[0;34m)\u001b[0m\u001b[0;34m[\u001b[0m\u001b[0;36m0\u001b[0m\u001b[0;34m]\u001b[0m\u001b[0;34m\u001b[0m\u001b[0;34m\u001b[0m\u001b[0m\n\u001b[1;32m   2832\u001b[0m         \u001b[0;32mif\u001b[0m \u001b[0many\u001b[0m\u001b[0;34m(\u001b[0m\u001b[0miszerofunc\u001b[0m\u001b[0;34m(\u001b[0m\u001b[0mred\u001b[0m\u001b[0;34m[\u001b[0m\u001b[0mj\u001b[0m\u001b[0;34m,\u001b[0m \u001b[0mj\u001b[0m\u001b[0;34m]\u001b[0m\u001b[0;34m)\u001b[0m \u001b[0;32mfor\u001b[0m \u001b[0mj\u001b[0m \u001b[0;32min\u001b[0m \u001b[0mrange\u001b[0m\u001b[0;34m(\u001b[0m\u001b[0mred\u001b[0m\u001b[0;34m.\u001b[0m\u001b[0mrows\u001b[0m\u001b[0;34m)\u001b[0m\u001b[0;34m)\u001b[0m\u001b[0;34m:\u001b[0m\u001b[0;34m\u001b[0m\u001b[0;34m\u001b[0m\u001b[0m\n\u001b[0;32m-> 2833\u001b[0;31m             \u001b[0;32mraise\u001b[0m \u001b[0mValueError\u001b[0m\u001b[0;34m(\u001b[0m\u001b[0;34m\"Matrix det == 0; not invertible.\"\u001b[0m\u001b[0;34m)\u001b[0m\u001b[0;34m\u001b[0m\u001b[0;34m\u001b[0m\u001b[0m\n\u001b[0m\u001b[1;32m   2834\u001b[0m \u001b[0;34m\u001b[0m\u001b[0m\n\u001b[1;32m   2835\u001b[0m         \u001b[0;32mreturn\u001b[0m \u001b[0mself\u001b[0m\u001b[0;34m.\u001b[0m\u001b[0m_new\u001b[0m\u001b[0;34m(\u001b[0m\u001b[0mred\u001b[0m\u001b[0;34m[\u001b[0m\u001b[0;34m:\u001b[0m\u001b[0;34m,\u001b[0m \u001b[0mbig\u001b[0m\u001b[0;34m.\u001b[0m\u001b[0mrows\u001b[0m\u001b[0;34m:\u001b[0m\u001b[0;34m]\u001b[0m\u001b[0;34m)\u001b[0m\u001b[0;34m\u001b[0m\u001b[0;34m\u001b[0m\u001b[0m\n",
      "\u001b[0;31mValueError\u001b[0m: Matrix det == 0; not invertible."
     ]
    }
   ],
   "source": [
    "now_theta = Matrix([0, -60.0*pi/180.0, 120.0*pi/180.0])\n",
    "\n",
    "now_pos = P.subs([(theta[0], now_theta[0]), (theta[1], now_theta[1]), (theta[2], now_theta[2])])\n",
    "print(now_pos.evalf(4))\n",
    "target_pos = Matrix([0.12, 0.05, -0.10])\n",
    "repeat = 100\n",
    "for i in range(repeat):\n",
    "    # 胴体座標形における足先座標の計算\n",
    "    ABS_pos = P.subs([(theta[0], now_theta[0]), (theta[1], now_theta[1]), (theta[2], now_theta[2])])\n",
    "    print(ABS_pos.evalf())\n",
    "    # 座標フィードバックをもとにして, 脚先の目標方向ベクトルの導出\n",
    "    target_pos_vector = now_pos+(target_pos-now_pos)*(float(i+1) /  float(repeat)) \n",
    "    #print((ABS_pos+target_pos_vector).evalf(4))\n",
    "    # ヤコビ行列の逆行列の計算\n",
    "    J = Jacob_T.subs([(theta[0], now_theta[0]), (theta[1], now_theta[1]), (theta[2], now_theta[2])])\n",
    "    #print(J)\n",
    "    inv_J = J.inv()\n",
    "    delta_pos = target_pos_vector - ABS_pos\n",
    "    delta_theta = inv_J*delta_pos\n",
    "    # 目標方向ベクトル, 現在関節角度をもとにして目標関節角度を更新\n",
    "    target_theta = (now_theta + delta_theta).evalf()\n",
    "\n",
    "    now_theta = target_theta"
   ]
  },
  {
   "cell_type": "code",
   "execution_count": null,
   "metadata": {},
   "outputs": [],
   "source": []
  },
  {
   "cell_type": "code",
   "execution_count": null,
   "metadata": {},
   "outputs": [],
   "source": []
  },
  {
   "cell_type": "code",
   "execution_count": null,
   "metadata": {},
   "outputs": [],
   "source": []
  },
  {
   "cell_type": "code",
   "execution_count": null,
   "metadata": {},
   "outputs": [],
   "source": []
  },
  {
   "cell_type": "code",
   "execution_count": null,
   "metadata": {},
   "outputs": [],
   "source": []
  },
  {
   "cell_type": "code",
   "execution_count": null,
   "metadata": {},
   "outputs": [],
   "source": []
  },
  {
   "cell_type": "code",
   "execution_count": null,
   "metadata": {},
   "outputs": [],
   "source": []
  },
  {
   "cell_type": "code",
   "execution_count": null,
   "metadata": {},
   "outputs": [],
   "source": []
  },
  {
   "cell_type": "code",
   "execution_count": null,
   "metadata": {},
   "outputs": [],
   "source": []
  },
  {
   "cell_type": "code",
   "execution_count": null,
   "metadata": {},
   "outputs": [],
   "source": []
  },
  {
   "cell_type": "code",
   "execution_count": null,
   "metadata": {},
   "outputs": [],
   "source": []
  }
 ],
 "metadata": {
  "file_extension": ".py",
  "kernelspec": {
   "display_name": "Python 2",
   "language": "python",
   "name": "python2"
  },
  "language_info": {
   "codemirror_mode": {
    "name": "ipython",
    "version": 3
   },
   "file_extension": ".py",
   "mimetype": "text/x-python",
   "name": "python",
   "nbconvert_exporter": "python",
   "pygments_lexer": "ipython3",
   "version": "3.7.3"
  },
  "mimetype": "text/x-python",
  "name": "python",
  "npconvert_exporter": "python",
  "pygments_lexer": "ipython2",
  "version": 2
 },
 "nbformat": 4,
 "nbformat_minor": 2
}
